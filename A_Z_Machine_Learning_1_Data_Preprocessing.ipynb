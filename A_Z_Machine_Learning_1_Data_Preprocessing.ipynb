{
  "cells": [
    {
      "cell_type": "markdown",
      "metadata": {
        "id": "view-in-github",
        "colab_type": "text"
      },
      "source": [
        "<a href=\"https://colab.research.google.com/github/MahdiZakipour/ML-MSc-Thesis/blob/main/A_Z_Machine_Learning_1_Data_Preprocessing.ipynb\" target=\"_parent\"><img src=\"https://colab.research.google.com/assets/colab-badge.svg\" alt=\"Open In Colab\"/></a>"
      ]
    },
    {
      "cell_type": "code",
      "execution_count": null,
      "id": "bef94aa9",
      "metadata": {
        "id": "bef94aa9"
      },
      "outputs": [],
      "source": [
        "# working directory\n",
        "import os\n",
        "os.chdir('D:\\Learning\\Deep Learning A-Z course - my files\\Section 1 Data Pre-processing\\Section 3 - Data Preprocessing in Python\\Python')\n",
        "os.getcwd()\n",
        "\n",
        "# import libraries\n",
        "import numpy as np\n",
        "import matplotlib.pyplot as plt\n",
        "import pandas as pd"
      ]
    },
    {
      "cell_type": "code",
      "execution_count": null,
      "id": "53444cdb",
      "metadata": {
        "id": "53444cdb",
        "outputId": "cec61ed3-e03e-491b-d4d8-68c50557a997"
      },
      "outputs": [
        {
          "name": "stdout",
          "output_type": "stream",
          "text": [
            "   Country   Age   Salary Purchased\n",
            "0   France  44.0  72000.0        No\n",
            "1    Spain  27.0  48000.0       Yes\n",
            "2  Germany  30.0  54000.0        No\n",
            "3    Spain  38.0  61000.0        No\n",
            "4  Germany  40.0      NaN       Yes\n",
            "5   France  35.0  58000.0       Yes\n",
            "6    Spain   NaN  52000.0        No\n",
            "7   France  48.0  79000.0       Yes\n",
            "8  Germany  50.0  83000.0        No\n",
            "9   France  37.0  67000.0       Yes\n"
          ]
        }
      ],
      "source": [
        "# import data set\n",
        "dataset = pd.read_csv('D:\\Learning\\Deep Learning A-Z course - my files\\Section 1 Data Pre-processing\\Section 3 - Data Preprocessing in Python\\Python\\Data.csv')\n",
        "print(dataset)\n",
        "\n",
        "x = dataset.iloc[:, :-1].values\n",
        "y = dataset.iloc[:, 3].values\n",
        "#print(y)"
      ]
    },
    {
      "cell_type": "code",
      "execution_count": null,
      "id": "0e5c7c38",
      "metadata": {
        "id": "0e5c7c38",
        "outputId": "d9e1c95d-1c03-4552-a93b-e224b071b73b"
      },
      "outputs": [
        {
          "name": "stdout",
          "output_type": "stream",
          "text": [
            "[['France' 44.0 72000.0]\n",
            " ['Spain' 27.0 48000.0]\n",
            " ['Germany' 30.0 54000.0]\n",
            " ['Spain' 38.0 61000.0]\n",
            " ['Germany' 40.0 63777.77777777778]\n",
            " ['France' 35.0 58000.0]\n",
            " ['Spain' 38.77777777777778 52000.0]\n",
            " ['France' 48.0 79000.0]\n",
            " ['Germany' 50.0 83000.0]\n",
            " ['France' 37.0 67000.0]]\n",
            "['No' 'Yes' 'No' 'No' 'Yes' 'Yes' 'No' 'Yes' 'No' 'Yes']\n"
          ]
        }
      ],
      "source": [
        "# taking care of missing data /// Numercal\n",
        "from sklearn.impute import SimpleImputer\n",
        "\n",
        "imputer = SimpleImputer(missing_values=np.nan, strategy='mean')\n",
        "imputer = imputer.fit(x[:, 1:3])\n",
        "x[:,1:3] = imputer.transform(x[:,1:3])\n",
        "\n",
        "print(x)\n",
        "print(y)"
      ]
    },
    {
      "cell_type": "code",
      "execution_count": null,
      "id": "fdb802db",
      "metadata": {
        "id": "fdb802db",
        "outputId": "ad9b80c9-1b78-4652-ac23-81ef523eeada"
      },
      "outputs": [
        {
          "name": "stdout",
          "output_type": "stream",
          "text": [
            "[[1.0 0.0 0.0 44.0 72000.0]\n",
            " [0.0 0.0 1.0 27.0 48000.0]\n",
            " [0.0 1.0 0.0 30.0 54000.0]\n",
            " [0.0 0.0 1.0 38.0 61000.0]\n",
            " [0.0 1.0 0.0 40.0 63777.77777777778]\n",
            " [1.0 0.0 0.0 35.0 58000.0]\n",
            " [0.0 0.0 1.0 38.77777777777778 52000.0]\n",
            " [1.0 0.0 0.0 48.0 79000.0]\n",
            " [0.0 1.0 0.0 50.0 83000.0]\n",
            " [1.0 0.0 0.0 37.0 67000.0]]\n",
            "[0 1 0 0 1 1 0 1 0 1]\n"
          ]
        },
        {
          "name": "stderr",
          "output_type": "stream",
          "text": [
            "D:\\Softwares\\AnacondaSetUp\\lib\\site-packages\\sklearn\\preprocessing\\_encoders.py:415: FutureWarning: The handling of integer data will change in version 0.22. Currently, the categories are determined based on the range [0, max(values)], while in the future they will be determined based on the unique values.\n",
            "If you want the future behaviour and silence this warning, you can specify \"categories='auto'\".\n",
            "In case you used a LabelEncoder before this OneHotEncoder to convert the categories to integers, then you can now use the OneHotEncoder directly.\n",
            "  warnings.warn(msg, FutureWarning)\n"
          ]
        }
      ],
      "source": [
        "#  Categorical data - dummy ENCODING  - OneHotEncoding\n",
        "# to Encode x :\n",
        "from sklearn.preprocessing import LabelEncoder, OneHotEncoder\n",
        "labelencoder_x = LabelEncoder()\n",
        "x[:, 0] = labelencoder_x.fit_transform(x[:, 0])\n",
        "\n",
        "\n",
        "\n",
        "from sklearn.compose import ColumnTransformer\n",
        "ct = ColumnTransformer([(\"Country\", OneHotEncoder(), [0])], remainder = 'passthrough')\n",
        "x = ct.fit_transform(x)\n",
        "\n",
        "print(x)\n",
        "\n",
        "# to Encode y :\n",
        "labelencoder_y = LabelEncoder()\n",
        "y = labelencoder_y.fit_transform(y)\n",
        "\n",
        "print(y)"
      ]
    },
    {
      "cell_type": "code",
      "execution_count": null,
      "id": "caab9e02",
      "metadata": {
        "id": "caab9e02"
      },
      "outputs": [],
      "source": [
        "# splitting the data into Test and Training set\n",
        "from sklearn.model_selection import train_test_split\n",
        "\n",
        "x_train, x_test, y_train, y_test = train_test_split(x, y, test_size = 0.2, random_state = 0)"
      ]
    },
    {
      "cell_type": "code",
      "execution_count": null,
      "id": "19a93dde",
      "metadata": {
        "id": "19a93dde"
      },
      "outputs": [],
      "source": [
        "# feature Scaling /// NORMALIZATION - or - STANDARADIZATION\n",
        "from sklearn.preprocessing import StandardScaler\n",
        "\n",
        "scale_x = StandardScaler()\n",
        "x_train[:, 1:3] = scale_x.fit_transform(x_train[:, 1:3])\n",
        "x_test[:, 1:3] = scale_x.transform(x_test[:, 1:3])"
      ]
    },
    {
      "cell_type": "code",
      "execution_count": null,
      "id": "1e0c6a87",
      "metadata": {
        "id": "1e0c6a87",
        "outputId": "c5d1e970-a26e-4064-dcce-a7ceb995a30d"
      },
      "outputs": [
        {
          "ename": "NameError",
          "evalue": "name 'data' is not defined",
          "output_type": "error",
          "traceback": [
            "\u001b[1;31m---------------------------------------------------------------------------\u001b[0m",
            "\u001b[1;31mNameError\u001b[0m                                 Traceback (most recent call last)",
            "\u001b[1;32m<ipython-input-7-10547407588c>\u001b[0m in \u001b[0;36m<module>\u001b[1;34m\u001b[0m\n\u001b[0;32m     12\u001b[0m \u001b[1;33m\u001b[0m\u001b[0m\n\u001b[0;32m     13\u001b[0m \u001b[1;31m# Calculate and show pairplot\u001b[0m\u001b[1;33m\u001b[0m\u001b[1;33m\u001b[0m\u001b[1;33m\u001b[0m\u001b[0m\n\u001b[1;32m---> 14\u001b[1;33m \u001b[0msns\u001b[0m\u001b[1;33m.\u001b[0m\u001b[0mpairplot\u001b[0m\u001b[1;33m(\u001b[0m\u001b[0mdata\u001b[0m\u001b[1;33m,\u001b[0m \u001b[0msize\u001b[0m\u001b[1;33m=\u001b[0m\u001b[1;36m2.5\u001b[0m\u001b[1;33m)\u001b[0m\u001b[1;33m\u001b[0m\u001b[1;33m\u001b[0m\u001b[0m\n\u001b[0m\u001b[0;32m     15\u001b[0m \u001b[0mplt\u001b[0m\u001b[1;33m.\u001b[0m\u001b[0mtight_layout\u001b[0m\u001b[1;33m(\u001b[0m\u001b[1;33m)\u001b[0m\u001b[1;33m\u001b[0m\u001b[1;33m\u001b[0m\u001b[0m\n",
            "\u001b[1;31mNameError\u001b[0m: name 'data' is not defined"
          ]
        }
      ],
      "source": [
        "### THIS BLOCK was ADDED, seperately. So be carefull with the names.\n",
        "\n",
        "### Feature Observation\n",
        "# making some Assumptions for our Data, We’ll find out if these assumptions are correct through the project.\n",
        "\n",
        "### Exploratory Data Analysis\n",
        "import matplotlib.pyplot as plt\n",
        "import seaborn as sns # for making statistical graphics\n",
        "#                       Plot pairwise relationships in a dataset; Histograms and Scatters TOGATHER :)\n",
        "\n",
        "%matplotlib inline\n",
        "\n",
        "# Calculate and show pairplot\n",
        "sns.pairplot(data, size=2.5)\n",
        "plt.tight_layout()"
      ]
    },
    {
      "cell_type": "code",
      "execution_count": null,
      "id": "de4cfe62",
      "metadata": {
        "id": "de4cfe62",
        "outputId": "d6b8b921-b9d1-447b-bc8b-e0f73db1cb7e"
      },
      "outputs": [
        {
          "data": {
            "text/plain": [
              "array([[0.0, 2.6457513110645903, -0.7745966692414834, 40.0,\n",
              "        63777.77777777778],\n",
              "       [1.0, -0.3779644730092272, -0.7745966692414834, 37.0, 67000.0],\n",
              "       [0.0, -0.3779644730092272, 1.2909944487358056, 27.0, 48000.0],\n",
              "       [0.0, -0.3779644730092272, 1.2909944487358056, 38.77777777777778,\n",
              "        52000.0],\n",
              "       [1.0, -0.3779644730092272, -0.7745966692414834, 48.0, 79000.0],\n",
              "       [0.0, -0.3779644730092272, 1.2909944487358056, 38.0, 61000.0],\n",
              "       [1.0, -0.3779644730092272, -0.7745966692414834, 44.0, 72000.0],\n",
              "       [1.0, -0.3779644730092272, -0.7745966692414834, 35.0, 58000.0]],\n",
              "      dtype=object)"
            ]
          },
          "execution_count": 8,
          "metadata": {},
          "output_type": "execute_result"
        }
      ],
      "source": [
        "x_train"
      ]
    },
    {
      "cell_type": "code",
      "execution_count": null,
      "id": "3a11f48e",
      "metadata": {
        "id": "3a11f48e",
        "outputId": "b6927c72-d813-42d4-af8d-de83c7aca0bf"
      },
      "outputs": [
        {
          "data": {
            "text/plain": [
              "array([[0.0, 2.6457513110645903, -0.7745966692414834, 30.0, 54000.0],\n",
              "       [0.0, 2.6457513110645903, -0.7745966692414834, 50.0, 83000.0]],\n",
              "      dtype=object)"
            ]
          },
          "execution_count": 9,
          "metadata": {},
          "output_type": "execute_result"
        }
      ],
      "source": [
        "x_test"
      ]
    },
    {
      "cell_type": "code",
      "execution_count": null,
      "id": "26468719",
      "metadata": {
        "id": "26468719",
        "outputId": "59ace62f-3eeb-4c06-ece8-8c572a3e3048"
      },
      "outputs": [
        {
          "data": {
            "text/plain": [
              "OneHotEncoder(categories=array([0., 1., 1., 1., 1., 0., 1., 0., 1., 0.]))"
            ]
          },
          "execution_count": 23,
          "metadata": {},
          "output_type": "execute_result"
        }
      ],
      "source": [
        "onehotencoder"
      ]
    }
  ],
  "metadata": {
    "kernelspec": {
      "display_name": "Python 3",
      "language": "python",
      "name": "python3"
    },
    "language_info": {
      "codemirror_mode": {
        "name": "ipython",
        "version": 3
      },
      "file_extension": ".py",
      "mimetype": "text/x-python",
      "name": "python",
      "nbconvert_exporter": "python",
      "pygments_lexer": "ipython3",
      "version": "3.8.8"
    },
    "colab": {
      "name": "A-Z Machine Learning - 1 - Data Preprocessing.ipynb",
      "provenance": [],
      "include_colab_link": true
    }
  },
  "nbformat": 4,
  "nbformat_minor": 5
}